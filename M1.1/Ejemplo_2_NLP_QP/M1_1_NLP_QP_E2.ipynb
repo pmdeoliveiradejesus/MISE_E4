{
  "nbformat": 4,
  "nbformat_minor": 0,
  "metadata": {
    "colab": {
      "provenance": [],
      "toc_visible": true,
      "authorship_tag": "ABX9TyNFlUY0v7UZH8vkoCFK2lWs",
      "include_colab_link": true
    },
    "kernelspec": {
      "name": "python3",
      "display_name": "Python 3"
    },
    "language_info": {
      "name": "python"
    }
  },
  "cells": [
    {
      "cell_type": "markdown",
      "metadata": {
        "id": "view-in-github",
        "colab_type": "text"
      },
      "source": [
        "<a href=\"https://colab.research.google.com/github/pmdeoliveiradejesus/MISE_E4/blob/main/M1.1/NLP_QP/M1_1_NLP_QP_E1.ipynb\" target=\"_parent\"><img src=\"https://colab.research.google.com/assets/colab-badge.svg\" alt=\"Open In Colab\"/></a>"
      ]
    },
    {
      "cell_type": "code",
      "execution_count": 3,
      "metadata": {
        "id": "LI35KjJWr9Ne",
        "colab": {
          "base_uri": "https://localhost:8080/"
        },
        "outputId": "ebd220c1-47b1-45ba-c81c-099b53e951ce"
      },
      "outputs": [
        {
          "output_type": "stream",
          "name": "stdout",
          "text": [
            "Optimal x: [0.34354519 0.75436542 1.82014001]\n",
            "Objective value: 4.868451199486921\n"
          ]
        }
      ],
      "source": [
        "#!/usr/bin/env python3\n",
        "# -*- coding: utf-8 -*-\n",
        "\"\"\"\n",
        "Created on Fri Apr  4 21:47:24 2025\n",
        "\n",
        "@author: pm.deoliveiradejes\n",
        "\"\"\"\n",
        "\n",
        "from scipy.optimize import minimize\n",
        "import numpy as np\n",
        "\n",
        "# Objective function\n",
        "def objective(x):\n",
        "    x1, x2, x3 = x\n",
        "    return 2 * x1**2 + x1 * x2 + x2**2 + 1.5 * x3**2 + x1 - 2 * x2\n",
        "\n",
        "# Constraints\n",
        "def constraint1_eq(x):\n",
        "    return x[0]**2 + x[1]**2 + x[2]**2 - 4  # equality constraint\n",
        "\n",
        "def constraint2_ineq(x):\n",
        "    return 1 - ((x[0] - 1)**2 + x[1]**2)    # inequality constraint\n",
        "\n",
        "# Initial guess that satisfies the equality constraint\n",
        "initial_guess = [1.0, 1.0, np.sqrt(2)]\n",
        "\n",
        "# Define constraints\n",
        "constraints = [\n",
        "    {'type': 'eq', 'fun': constraint1_eq},\n",
        "    {'type': 'ineq', 'fun': constraint2_ineq}\n",
        "]\n",
        "\n",
        "# Solve the problem\n",
        "solution = minimize(objective, initial_guess, constraints=constraints)\n",
        "\n",
        "# Print the results\n",
        "print(\"Optimal x:\", solution.x)\n",
        "print(\"Objective value:\", solution.fun)"
      ]
    },
    {
      "cell_type": "markdown",
      "source": [
        "# Sección nueva"
      ],
      "metadata": {
        "id": "8DOgKjeGsDwB"
      }
    }
  ]
}
